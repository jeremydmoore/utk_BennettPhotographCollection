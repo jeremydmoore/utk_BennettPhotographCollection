{
 "cells": [
  {
   "cell_type": "code",
   "execution_count": 7,
   "metadata": {},
   "outputs": [],
   "source": [
    "%matplotlib inline\n",
    "from pathlib import Path\n",
    "\n",
    "import cv2\n",
    "import numpy as np\n",
    "from matplotlib import pyplot as plt\n",
    "from PIL import Image\n",
    "from sklearn.cluster import MiniBatchKMeans"
   ]
  },
  {
   "cell_type": "code",
   "execution_count": 8,
   "metadata": {},
   "outputs": [
    {
     "data": {
      "text/plain": [
       "17"
      ]
     },
     "execution_count": 8,
     "metadata": {},
     "output_type": "execute_result"
    }
   ],
   "source": [
    "data_path = Path('/Users/jeremy/Pictures/bennett_pack-film/Output/_autocrop_jpg/')\n",
    "\n",
    "image_paths_list = sorted(data_path.glob('*.jpg'))\n",
    "len(image_paths_list)"
   ]
  },
  {
   "cell_type": "code",
   "execution_count": 9,
   "metadata": {},
   "outputs": [
    {
     "data": {
      "text/plain": [
       "([PosixPath('/Users/jeremy/Pictures/bennett_pack-film/Output/_autocrop_jpg/MS3892-B2-S11-F35_001.jpg'),\n",
       "  PosixPath('/Users/jeremy/Pictures/bennett_pack-film/Output/_autocrop_jpg/MS3892-B2-S11-F35_002.jpg'),\n",
       "  PosixPath('/Users/jeremy/Pictures/bennett_pack-film/Output/_autocrop_jpg/MS3892-B2-S11-F35_003.jpg')],\n",
       " [PosixPath('/Users/jeremy/Pictures/bennett_pack-film/Output/_autocrop_jpg/MS3892-B2-S11-F35_015.jpg'),\n",
       "  PosixPath('/Users/jeremy/Pictures/bennett_pack-film/Output/_autocrop_jpg/bennett_pack-film_-001.jpg'),\n",
       "  PosixPath('/Users/jeremy/Pictures/bennett_pack-film/Output/_autocrop_jpg/bennett_pack-film_-002.jpg')])"
      ]
     },
     "execution_count": 9,
     "metadata": {},
     "output_type": "execute_result"
    }
   ],
   "source": [
    "image_paths_list[:3], image_paths_list[-3:]"
   ]
  },
  {
   "cell_type": "code",
   "execution_count": 41,
   "metadata": {},
   "outputs": [
    {
     "data": {
      "text/plain": [
       "(PosixPath('/Users/jeremy/Pictures/bennett_pack-film/Output/_autocrop_jpg/bennett_pack-film_-001.jpg'),\n",
       " PosixPath('/Users/jeremy/Pictures/bennett_pack-film/Output/_autocrop_jpg/MS3892-B2-S11-F35_002.jpg'))"
      ]
     },
     "execution_count": 41,
     "metadata": {},
     "output_type": "execute_result"
    }
   ],
   "source": [
    "# what if we loaded the LCC file to use as a mask?\n",
    "lcc_path = image_paths_list[-2]\n",
    "image_path = image_paths_list[1]\n",
    "lcc_path, image_path"
   ]
  },
  {
   "cell_type": "code",
   "execution_count": 42,
   "metadata": {},
   "outputs": [],
   "source": [
    "lcc = cv2.imread(str(lcc_path))\n",
    "image = cv2.imread(str(image_path))"
   ]
  },
  {
   "cell_type": "code",
   "execution_count": 43,
   "metadata": {},
   "outputs": [
    {
     "data": {
      "text/plain": [
       "224"
      ]
     },
     "execution_count": 43,
     "metadata": {},
     "output_type": "execute_result"
    }
   ],
   "source": [
    "lcc_gray = cv2.cvtColor(lcc, cv2.COLOR_BGR2GRAY)\n",
    "lcc_blurred = cv2.GaussianBlur(lcc_gray, (21, 21), 5)\n",
    "lcc_blurred.min()"
   ]
  },
  {
   "cell_type": "code",
   "execution_count": 44,
   "metadata": {},
   "outputs": [
    {
     "data": {
      "text/plain": [
       "60"
      ]
     },
     "execution_count": 44,
     "metadata": {},
     "output_type": "execute_result"
    }
   ],
   "source": [
    "image_gray = cv2.cvtColor(image, cv2.COLOR_BGR2GRAY)\n",
    "#image_blurred = cv2.GaussianBlur(image_gray, (5, 5), 5)\n",
    "image_blurred = cv2.bilateralFilter(image_gray, 21, 21, 21)\n",
    "image_blurred.min()"
   ]
  },
  {
   "cell_type": "code",
   "execution_count": 45,
   "metadata": {},
   "outputs": [
    {
     "data": {
      "text/plain": [
       "array([[221, 221, 222, ..., 222, 222, 222],\n",
       "       [221, 221, 222, ..., 221, 221, 221],\n",
       "       [221, 221, 222, ..., 221, 221, 221],\n",
       "       ...,\n",
       "       [224, 224, 224, ..., 224, 224, 224],\n",
       "       [224, 224, 224, ..., 224, 224, 224],\n",
       "       [224, 224, 224, ..., 223, 223, 223]], dtype=uint8)"
      ]
     },
     "execution_count": 45,
     "metadata": {},
     "output_type": "execute_result"
    }
   ],
   "source": [
    "image_gray"
   ]
  },
  {
   "cell_type": "code",
   "execution_count": 69,
   "metadata": {},
   "outputs": [
    {
     "data": {
      "text/plain": [
       "(800, 1067)"
      ]
     },
     "execution_count": 69,
     "metadata": {},
     "output_type": "execute_result"
    }
   ],
   "source": [
    "image_gray.shape"
   ]
  },
  {
   "cell_type": "code",
   "execution_count": 46,
   "metadata": {
    "scrolled": true
   },
   "outputs": [
    {
     "data": {
      "text/plain": [
       "226"
      ]
     },
     "execution_count": 46,
     "metadata": {},
     "output_type": "execute_result"
    }
   ],
   "source": [
    "image_blurred.max()"
   ]
  },
  {
   "cell_type": "code",
   "execution_count": 47,
   "metadata": {},
   "outputs": [
    {
     "data": {
      "image/png": "[encoded data removed]",
      "text/plain": [
       "<Figure size 432x288 with 1 Axes>"
      ]
     },
     "metadata": {
      "needs_background": "light"
     },
     "output_type": "display_data"
    }
   ],
   "source": [
    "plt.hist(image_blurred.ravel(),256,[0,256]); plt.show()"
   ]
  },
  {
   "cell_type": "code",
   "execution_count": 48,
   "metadata": {},
   "outputs": [],
   "source": [
    "image_blurred_bgr = cv2.cvtColor(image_blurred, cv2.COLOR_GRAY2BGR)\n",
    "image_blurred_lab = cv2.cvtColor(image_blurred_bgr, cv2.COLOR_BGR2LAB)"
   ]
  },
  {
   "cell_type": "code",
   "execution_count": 49,
   "metadata": {},
   "outputs": [],
   "source": [
    "(h, w) = image_blurred_lab.shape[:2]\n",
    "reshaped = image_blurred_lab.reshape((image_blurred_lab.shape[0] * image_blurred_lab.shape[1], 3))"
   ]
  },
  {
   "cell_type": "code",
   "execution_count": 50,
   "metadata": {},
   "outputs": [],
   "source": [
    "# apply k-means using the specified number of clusters and\n",
    "# then create the quantized reshaped based on the predictions\n",
    "clt = MiniBatchKMeans(n_clusters = 5)\n",
    "labels = clt.fit_predict(reshaped)\n",
    "quant = clt.cluster_centers_.astype(\"uint8\")[labels]\n",
    " \n",
    "# reshape the feature vectors to reshapeds\n",
    "quant = quant.reshape((h, w, 3))\n",
    "reshaped = reshaped.reshape((h, w, 3))\n",
    " \n",
    "# convert from L*a*b* to RGB\n",
    "quant = cv2.cvtColor(quant, cv2.COLOR_LAB2BGR)\n",
    "image = cv2.cvtColor(reshaped, cv2.COLOR_LAB2BGR)\n",
    " \n",
    "# display the reshapeds and wait for a keypress\n",
    "# cv2.imshow(\"quantized\", np.hstack([reshaped, quant]))\n",
    "# cv2.waitKey(0)"
   ]
  },
  {
   "cell_type": "code",
   "execution_count": 51,
   "metadata": {},
   "outputs": [
    {
     "data": {
      "text/plain": [
       "array([[[224, 224, 224],\n",
       "        [224, 224, 224],\n",
       "        [224, 224, 224],\n",
       "        ...,\n",
       "        [224, 224, 224],\n",
       "        [224, 224, 224],\n",
       "        [224, 224, 224]],\n",
       "\n",
       "       [[224, 224, 224],\n",
       "        [224, 224, 224],\n",
       "        [224, 224, 224],\n",
       "        ...,\n",
       "        [224, 224, 224],\n",
       "        [224, 224, 224],\n",
       "        [224, 224, 224]],\n",
       "\n",
       "       [[224, 224, 224],\n",
       "        [224, 224, 224],\n",
       "        [224, 224, 224],\n",
       "        ...,\n",
       "        [224, 224, 224],\n",
       "        [224, 224, 224],\n",
       "        [224, 224, 224]],\n",
       "\n",
       "       ...,\n",
       "\n",
       "       [[224, 224, 224],\n",
       "        [224, 224, 224],\n",
       "        [224, 224, 224],\n",
       "        ...,\n",
       "        [224, 224, 224],\n",
       "        [224, 224, 224],\n",
       "        [224, 224, 224]],\n",
       "\n",
       "       [[224, 224, 224],\n",
       "        [224, 224, 224],\n",
       "        [224, 224, 224],\n",
       "        ...,\n",
       "        [224, 224, 224],\n",
       "        [224, 224, 224],\n",
       "        [224, 224, 224]],\n",
       "\n",
       "       [[224, 224, 224],\n",
       "        [224, 224, 224],\n",
       "        [224, 224, 224],\n",
       "        ...,\n",
       "        [224, 224, 224],\n",
       "        [224, 224, 224],\n",
       "        [224, 224, 224]]], dtype=uint8)"
      ]
     },
     "execution_count": 51,
     "metadata": {},
     "output_type": "execute_result"
    }
   ],
   "source": [
    "quant"
   ]
  },
  {
   "cell_type": "code",
   "execution_count": 52,
   "metadata": {
    "scrolled": true
   },
   "outputs": [
    {
     "data": {
      "text/plain": [
       "<matplotlib.image.AxesImage at 0x1a2c68ad68>"
      ]
     },
     "execution_count": 52,
     "metadata": {},
     "output_type": "execute_result"
    },
    {
     "data": {
      "image/png": "[encoded data removed]",
      "text/plain": [
       "<Figure size 432x288 with 1 Axes>"
      ]
     },
     "metadata": {
      "needs_background": "light"
     },
     "output_type": "display_data"
    }
   ],
   "source": [
    "plt.imshow(quant, cmap='gray')"
   ]
  },
  {
   "cell_type": "code",
   "execution_count": 53,
   "metadata": {},
   "outputs": [
    {
     "data": {
      "text/plain": [
       "<matplotlib.image.AxesImage at 0x1a2f782f60>"
      ]
     },
     "execution_count": 53,
     "metadata": {},
     "output_type": "execute_result"
    },
    {
     "data": {
      "image/png": "[encoded data removed]",
      "text/plain": [
       "<Figure size 432x288 with 1 Axes>"
      ]
     },
     "metadata": {
      "needs_background": "light"
     },
     "output_type": "display_data"
    }
   ],
   "source": [
    "# threshold\n",
    "gray = cv2.cvtColor(quant, cv2.COLOR_BGR2GRAY)\n",
    "new = cv2.equalizeHist(gray)\n",
    "new = np.invert(new)\n",
    "plt.imshow(new, cmap='gray')"
   ]
  },
  {
   "cell_type": "code",
   "execution_count": 54,
   "metadata": {},
   "outputs": [
    {
     "data": {
      "text/plain": [
       "(array([ 24,  24,  25, ..., 584, 584, 584]),\n",
       " array([994, 995, 963, ..., 209, 210, 216]))"
      ]
     },
     "execution_count": 54,
     "metadata": {},
     "output_type": "execute_result"
    }
   ],
   "source": [
    "np.where(new > 0)"
   ]
  },
  {
   "cell_type": "code",
   "execution_count": 67,
   "metadata": {
    "scrolled": true
   },
   "outputs": [
    {
     "name": "stdout",
     "output_type": "stream",
     "text": [
      "[  0 111 152 222 255]\n",
      "111\n",
      "threshold value is 110\n"
     ]
    }
   ],
   "source": [
    "unique_values = np.unique(new)\n",
    "print(unique_values)\n",
    "print(unique_values[1])\n",
    "threshold_value = (unique_values[1] - 1)\n",
    "print(f'threshold value is {threshold_value}')"
   ]
  },
  {
   "cell_type": "code",
   "execution_count": 68,
   "metadata": {},
   "outputs": [
    {
     "data": {
      "text/plain": [
       "<matplotlib.image.AxesImage at 0x1a2a0acf98>"
      ]
     },
     "execution_count": 68,
     "metadata": {},
     "output_type": "execute_result"
    },
    {
     "data": {
      "image/png": "[encoded data removed]",
      "text/plain": [
       "<Figure size 432x288 with 1 Axes>"
      ]
     },
     "metadata": {
      "needs_background": "light"
     },
     "output_type": "display_data"
    }
   ],
   "source": [
    "_, thresh = cv2.threshold(new, threshold_value, 255, cv2.THRESH_BINARY)\n",
    "plt.imshow(thresh, cmap='gray')"
   ]
  },
  {
   "cell_type": "code",
   "execution_count": 40,
   "metadata": {},
   "outputs": [
    {
     "data": {
      "text/plain": [
       "<matplotlib.image.AxesImage at 0x1a265d7390>"
      ]
     },
     "execution_count": 40,
     "metadata": {},
     "output_type": "execute_result"
    },
    {
     "data": {
      "image/png": "[encoded data removed]",
      "text/plain": [
       "<Figure size 432x288 with 1 Axes>"
      ]
     },
     "metadata": {
      "needs_background": "light"
     },
     "output_type": "display_data"
    }
   ],
   "source": [
    "# apply Otsu's automatic thresholding\n",
    "(T, thresh) = cv2.threshold(image_blurred, 0, 255, cv2.THRESH_BINARY_INV | cv2.THRESH_OTSU)\n",
    "plt.imshow(thresh, cmap='gray')"
   ]
  },
  {
   "cell_type": "code",
   "execution_count": null,
   "metadata": {
    "scrolled": false
   },
   "outputs": [],
   "source": [
    "plt.hist(reshaped.ravel(),256,[0,256]); plt.show()"
   ]
  },
  {
   "cell_type": "code",
   "execution_count": null,
   "metadata": {
    "scrolled": false
   },
   "outputs": [],
   "source": [
    "np.mean(image_blurred), np.median(image_blurred)"
   ]
  },
  {
   "cell_type": "code",
   "execution_count": null,
   "metadata": {
    "scrolled": true
   },
   "outputs": [],
   "source": [
    "np.mean(lcc_blurred), np.median(lcc_blurred)"
   ]
  },
  {
   "cell_type": "code",
   "execution_count": null,
   "metadata": {},
   "outputs": [],
   "source": [
    "new = cv2.subtract(lcc_gray, image_blurred)"
   ]
  },
  {
   "cell_type": "code",
   "execution_count": null,
   "metadata": {},
   "outputs": [],
   "source": [
    "plt.hist(new.ravel(),256,[0,256]); plt.show()"
   ]
  },
  {
   "cell_type": "code",
   "execution_count": null,
   "metadata": {},
   "outputs": [],
   "source": [
    "(T, thresh) = cv2.threshold(new, 0, 255, cv2.THRESH_BINARY_INV | cv2.THRESH_OTSU)"
   ]
  },
  {
   "cell_type": "code",
   "execution_count": null,
   "metadata": {},
   "outputs": [],
   "source": [
    "T"
   ]
  },
  {
   "cell_type": "code",
   "execution_count": null,
   "metadata": {},
   "outputs": [],
   "source": [
    "plt.imshow(thresh)"
   ]
  },
  {
   "cell_type": "code",
   "execution_count": null,
   "metadata": {},
   "outputs": [],
   "source": [
    "# set a manual threshold\n",
    "_, thresh = cv2.threshold(new, 15, 255, cv2.THRESH_BINARY_INV)\n",
    "plt.imshow(thresh)"
   ]
  },
  {
   "cell_type": "code",
   "execution_count": null,
   "metadata": {},
   "outputs": [],
   "source": [
    "for image_path in image_paths_list:\n",
    "    print(image_path.stem)\n",
    "    !python autocrop.py {str(image_path)}"
   ]
  }
 ],
 "metadata": {
  "kernelspec": {
   "display_name": "Python 3",
   "language": "python",
   "name": "python3"
  },
  "language_info": {
   "codemirror_mode": {
    "name": "ipython",
    "version": 3
   },
   "file_extension": ".py",
   "mimetype": "text/x-python",
   "name": "python",
   "nbconvert_exporter": "python",
   "pygments_lexer": "ipython3",
   "version": "3.7.3"
  }
 },
 "nbformat": 4,
 "nbformat_minor": 2
}
