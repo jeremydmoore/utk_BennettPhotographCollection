{
 "cells": [
  {
   "cell_type": "code",
   "execution_count": 1,
   "metadata": {},
   "outputs": [],
   "source": [
    "%matplotlib inline\n",
    "from pathlib import Path\n",
    "\n",
    "import cv2\n",
    "import numpy as np\n",
    "from matplotlib import pyplot as plt\n",
    "from PIL import Image\n",
    "from sklearn.cluster import MiniBatchKMeans"
   ]
  },
  {
   "cell_type": "code",
   "execution_count": 80,
   "metadata": {},
   "outputs": [
    {
     "data": {
      "text/plain": [
       "21"
      ]
     },
     "execution_count": 80,
     "metadata": {},
     "output_type": "execute_result"
    }
   ],
   "source": [
    "data_path = Path('/Users/dlisla/Pictures/bennett_pack-film/Output/_autocrop_jpg/')\n",
    "\n",
    "image_paths_list = sorted(data_path.glob('*.jpg'))\n",
    "len(image_paths_list)"
   ]
  },
  {
   "cell_type": "code",
   "execution_count": 81,
   "metadata": {
    "scrolled": true
   },
   "outputs": [
    {
     "data": {
      "text/plain": [
       "([PosixPath('/Users/dlisla/Pictures/bennett_pack-film/Output/_autocrop_jpg/MS3892-B2-S11-F35_024.jpg'),\n",
       "  PosixPath('/Users/dlisla/Pictures/bennett_pack-film/Output/_autocrop_jpg/MS3892-B2-S11-F35_025.jpg'),\n",
       "  PosixPath('/Users/dlisla/Pictures/bennett_pack-film/Output/_autocrop_jpg/MS3892-B2-S11-F35_026.jpg')],\n",
       " [PosixPath('/Users/dlisla/Pictures/bennett_pack-film/Output/_autocrop_jpg/MS3892-B2-S11-F35_042.jpg'),\n",
       "  PosixPath('/Users/dlisla/Pictures/bennett_pack-film/Output/_autocrop_jpg/MS3892-B2-S11-F35_043.jpg'),\n",
       "  PosixPath('/Users/dlisla/Pictures/bennett_pack-film/Output/_autocrop_jpg/MS3892-B2-S11-F35_044.jpg')])"
      ]
     },
     "execution_count": 81,
     "metadata": {},
     "output_type": "execute_result"
    }
   ],
   "source": [
    "image_paths_list[:3], image_paths_list[-3:]"
   ]
  },
  {
   "cell_type": "code",
   "execution_count": 82,
   "metadata": {},
   "outputs": [],
   "source": [
    "image_path = Path(image_paths_list[-1])"
   ]
  },
  {
   "cell_type": "code",
   "execution_count": 83,
   "metadata": {},
   "outputs": [],
   "source": [
    "image = cv2.imread(str(image_path))"
   ]
  },
  {
   "cell_type": "code",
   "execution_count": 84,
   "metadata": {},
   "outputs": [
    {
     "data": {
      "text/plain": [
       "3"
      ]
     },
     "execution_count": 84,
     "metadata": {},
     "output_type": "execute_result"
    }
   ],
   "source": [
    "image_gray = cv2.cvtColor(image, cv2.COLOR_BGR2GRAY)\n",
    "#image_blurred = cv2.GaussianBlur(image_gray, (5, 5), 5)\n",
    "image_blurred = cv2.bilateralFilter(image_gray, 21, 21, 21)\n",
    "image_blurred.min()"
   ]
  },
  {
   "cell_type": "code",
   "execution_count": 85,
   "metadata": {},
   "outputs": [
    {
     "data": {
      "text/plain": [
       "array([[236, 236, 236, ..., 235, 235, 235],\n",
       "       [236, 236, 236, ..., 235, 235, 235],\n",
       "       [236, 236, 236, ..., 235, 235, 235],\n",
       "       ...,\n",
       "       [238, 238, 238, ..., 236, 236, 236],\n",
       "       [238, 238, 238, ..., 236, 236, 236],\n",
       "       [238, 238, 238, ..., 236, 236, 236]], dtype=uint8)"
      ]
     },
     "execution_count": 85,
     "metadata": {},
     "output_type": "execute_result"
    }
   ],
   "source": [
    "image_gray"
   ]
  },
  {
   "cell_type": "code",
   "execution_count": 86,
   "metadata": {},
   "outputs": [
    {
     "data": {
      "text/plain": [
       "(800, 1067)"
      ]
     },
     "execution_count": 86,
     "metadata": {},
     "output_type": "execute_result"
    }
   ],
   "source": [
    "image_gray.shape"
   ]
  },
  {
   "cell_type": "code",
   "execution_count": 87,
   "metadata": {
    "scrolled": true
   },
   "outputs": [
    {
     "data": {
      "text/plain": [
       "239"
      ]
     },
     "execution_count": 87,
     "metadata": {},
     "output_type": "execute_result"
    }
   ],
   "source": [
    "image_blurred.max()"
   ]
  },
  {
   "cell_type": "code",
   "execution_count": 88,
   "metadata": {},
   "outputs": [
    {
     "data": {
      "image/png": "[encoded data removed]",
      "text/plain": [
       "<Figure size 432x288 with 1 Axes>"
      ]
     },
     "metadata": {
      "needs_background": "light"
     },
     "output_type": "display_data"
    }
   ],
   "source": [
    "plt.hist(image_blurred.ravel(),256,[0,256]); plt.show()"
   ]
  },
  {
   "cell_type": "code",
   "execution_count": 89,
   "metadata": {},
   "outputs": [],
   "source": [
    "image_blurred_bgr = cv2.cvtColor(image_blurred, cv2.COLOR_GRAY2BGR)\n",
    "image_blurred_lab = cv2.cvtColor(image_blurred_bgr, cv2.COLOR_BGR2LAB)"
   ]
  },
  {
   "cell_type": "code",
   "execution_count": 90,
   "metadata": {},
   "outputs": [],
   "source": [
    "(h, w) = image_blurred_lab.shape[:2]\n",
    "reshaped = image_blurred_lab.reshape((image_blurred_lab.shape[0] * image_blurred_lab.shape[1], 3))"
   ]
  },
  {
   "cell_type": "code",
   "execution_count": 91,
   "metadata": {},
   "outputs": [],
   "source": [
    "# apply k-means using the specified number of clusters and\n",
    "# then create the quantized reshaped based on the predictions\n",
    "clt = MiniBatchKMeans(n_clusters = 6)\n",
    "labels = clt.fit_predict(reshaped)\n",
    "quant = clt.cluster_centers_.astype(\"uint8\")[labels]\n",
    " \n",
    "# reshape the feature vectors to reshapeds\n",
    "quant = quant.reshape((h, w, 3))\n",
    "reshape_to_original = reshaped.reshape((h, w, 3))\n",
    " \n",
    "# convert from L*a*b* to RGB\n",
    "quant = cv2.cvtColor(quant, cv2.COLOR_LAB2BGR)\n",
    "image = cv2.cvtColor(reshape_to_original, cv2.COLOR_LAB2BGR)\n",
    " \n",
    "# display the reshapeds and wait for a keypress\n",
    "# cv2.imshow(\"quantized\", np.hstack([reshaped, quant]))\n",
    "# cv2.waitKey(0)"
   ]
  },
  {
   "cell_type": "code",
   "execution_count": 92,
   "metadata": {
    "scrolled": true
   },
   "outputs": [
    {
     "data": {
      "text/plain": [
       "<matplotlib.image.AxesImage at 0x7f9ee22f7ac8>"
      ]
     },
     "execution_count": 92,
     "metadata": {},
     "output_type": "execute_result"
    },
    {
     "data": {
      "image/png": "[encoded data removed]",
      "text/plain": [
       "<Figure size 432x288 with 1 Axes>"
      ]
     },
     "metadata": {
      "needs_background": "light"
     },
     "output_type": "display_data"
    }
   ],
   "source": [
    "plt.imshow(quant, cmap='gray')"
   ]
  },
  {
   "cell_type": "code",
   "execution_count": 93,
   "metadata": {},
   "outputs": [
    {
     "data": {
      "text/plain": [
       "<matplotlib.image.AxesImage at 0x7f9ee26b2cf8>"
      ]
     },
     "execution_count": 93,
     "metadata": {},
     "output_type": "execute_result"
    },
    {
     "data": {
      "image/png": "[encoded data removed]",
      "text/plain": [
       "<Figure size 432x288 with 1 Axes>"
      ]
     },
     "metadata": {
      "needs_background": "light"
     },
     "output_type": "display_data"
    }
   ],
   "source": [
    "# grayscale and equalize\n",
    "gray = cv2.cvtColor(quant, cv2.COLOR_BGR2GRAY)\n",
    "new = cv2.equalizeHist(gray)\n",
    "new = np.invert(new)\n",
    "plt.imshow(new, cmap='gray')"
   ]
  },
  {
   "cell_type": "code",
   "execution_count": 94,
   "metadata": {},
   "outputs": [
    {
     "data": {
      "text/plain": [
       "(array([101, 101, 101, ..., 657, 657, 657]),\n",
       " array([ 61,  62,  63, ..., 982, 983, 984]))"
      ]
     },
     "execution_count": 94,
     "metadata": {},
     "output_type": "execute_result"
    }
   ],
   "source": [
    "np.where(new > 0)"
   ]
  },
  {
   "cell_type": "code",
   "execution_count": 95,
   "metadata": {
    "scrolled": true
   },
   "outputs": [
    {
     "name": "stdout",
     "output_type": "stream",
     "text": [
      "[  0 109 162 192 219 255]\n",
      "109\n",
      "threshold value is 108\n"
     ]
    }
   ],
   "source": [
    "unique_values = np.unique(new)\n",
    "print(unique_values)\n",
    "print(unique_values[1])\n",
    "threshold_value = (unique_values[1] - 1)\n",
    "print(f'threshold value is {threshold_value}')"
   ]
  },
  {
   "cell_type": "code",
   "execution_count": 98,
   "metadata": {
    "scrolled": true
   },
   "outputs": [
    {
     "data": {
      "text/plain": [
       "<matplotlib.image.AxesImage at 0x7f9ee2684668>"
      ]
     },
     "execution_count": 98,
     "metadata": {},
     "output_type": "execute_result"
    },
    {
     "data": {
      "image/png": "[encoded data removed]",
      "text/plain": [
       "<Figure size 432x288 with 1 Axes>"
      ]
     },
     "metadata": {
      "needs_background": "light"
     },
     "output_type": "display_data"
    }
   ],
   "source": [
    "_, thresh = cv2.threshold(new, 2, 255, cv2.THRESH_BINARY)\n",
    "plt.imshow(thresh, cmap='gray')"
   ]
  },
  {
   "cell_type": "code",
   "execution_count": 99,
   "metadata": {},
   "outputs": [
    {
     "data": {
      "text/plain": [
       "<matplotlib.image.AxesImage at 0x7f9ee230b240>"
      ]
     },
     "execution_count": 99,
     "metadata": {},
     "output_type": "execute_result"
    },
    {
     "data": {
      "image/png": "[encoded data removed]",
      "text/plain": [
       "<Figure size 432x288 with 1 Axes>"
      ]
     },
     "metadata": {
      "needs_background": "light"
     },
     "output_type": "display_data"
    }
   ],
   "source": [
    "_, thresh = cv2.threshold(new, threshold_value, 255, cv2.THRESH_BINARY)\n",
    "plt.imshow(thresh, cmap='gray')"
   ]
  },
  {
   "cell_type": "code",
   "execution_count": 25,
   "metadata": {},
   "outputs": [
    {
     "data": {
      "text/plain": [
       "<matplotlib.image.AxesImage at 0x7f9ea1047be0>"
      ]
     },
     "execution_count": 25,
     "metadata": {},
     "output_type": "execute_result"
    },
    {
     "data": {
      "image/png": "[encoded data removed]",
      "text/plain": [
       "<Figure size 432x288 with 1 Axes>"
      ]
     },
     "metadata": {
      "needs_background": "light"
     },
     "output_type": "display_data"
    }
   ],
   "source": [
    "# apply Otsu's automatic thresholding\n",
    "(T, thresh) = cv2.threshold(image_blurred, 0, 255, cv2.THRESH_BINARY_INV | cv2.THRESH_OTSU)\n",
    "plt.imshow(thresh, cmap='gray')"
   ]
  },
  {
   "cell_type": "code",
   "execution_count": 26,
   "metadata": {
    "scrolled": false
   },
   "outputs": [
    {
     "data": {
      "image/png": "[encoded data removed]",
      "text/plain": [
       "<Figure size 432x288 with 1 Axes>"
      ]
     },
     "metadata": {
      "needs_background": "light"
     },
     "output_type": "display_data"
    }
   ],
   "source": [
    "plt.hist(reshaped.ravel(),256,[0,256]); plt.show()"
   ]
  },
  {
   "cell_type": "code",
   "execution_count": 27,
   "metadata": {
    "scrolled": false
   },
   "outputs": [
    {
     "data": {
      "text/plain": [
       "(152.38029756326148, 159.0)"
      ]
     },
     "execution_count": 27,
     "metadata": {},
     "output_type": "execute_result"
    }
   ],
   "source": [
    "np.mean(image_blurred), np.median(image_blurred)"
   ]
  },
  {
   "cell_type": "code",
   "execution_count": 28,
   "metadata": {
    "scrolled": true
   },
   "outputs": [
    {
     "data": {
      "text/plain": [
       "(143.66193767572634, 123.0)"
      ]
     },
     "execution_count": 28,
     "metadata": {},
     "output_type": "execute_result"
    }
   ],
   "source": [
    "np.mean(lcc_blurred), np.median(lcc_blurred)"
   ]
  },
  {
   "cell_type": "code",
   "execution_count": 29,
   "metadata": {},
   "outputs": [],
   "source": [
    "new = cv2.subtract(lcc_gray, image_blurred)"
   ]
  },
  {
   "cell_type": "code",
   "execution_count": 30,
   "metadata": {},
   "outputs": [
    {
     "data": {
      "image/png": "[encoded data removed]",
      "text/plain": [
       "<Figure size 432x288 with 1 Axes>"
      ]
     },
     "metadata": {
      "needs_background": "light"
     },
     "output_type": "display_data"
    }
   ],
   "source": [
    "plt.hist(new.ravel(),256,[0,256]); plt.show()"
   ]
  },
  {
   "cell_type": "code",
   "execution_count": 31,
   "metadata": {},
   "outputs": [],
   "source": [
    "(T, thresh) = cv2.threshold(new, 0, 255, cv2.THRESH_BINARY_INV | cv2.THRESH_OTSU)"
   ]
  },
  {
   "cell_type": "code",
   "execution_count": 32,
   "metadata": {},
   "outputs": [
    {
     "data": {
      "text/plain": [
       "41.0"
      ]
     },
     "execution_count": 32,
     "metadata": {},
     "output_type": "execute_result"
    }
   ],
   "source": [
    "T"
   ]
  },
  {
   "cell_type": "code",
   "execution_count": 33,
   "metadata": {},
   "outputs": [
    {
     "data": {
      "text/plain": [
       "<matplotlib.image.AxesImage at 0x7f9ec0e1dba8>"
      ]
     },
     "execution_count": 33,
     "metadata": {},
     "output_type": "execute_result"
    },
    {
     "data": {
      "image/png": "[encoded data removed]",
      "text/plain": [
       "<Figure size 432x288 with 1 Axes>"
      ]
     },
     "metadata": {
      "needs_background": "light"
     },
     "output_type": "display_data"
    }
   ],
   "source": [
    "plt.imshow(thresh)"
   ]
  },
  {
   "cell_type": "code",
   "execution_count": 34,
   "metadata": {},
   "outputs": [
    {
     "data": {
      "text/plain": [
       "<matplotlib.image.AxesImage at 0x7f9ec0410710>"
      ]
     },
     "execution_count": 34,
     "metadata": {},
     "output_type": "execute_result"
    },
    {
     "data": {
      "image/png": "[encoded data removed]",
      "text/plain": [
       "<Figure size 432x288 with 1 Axes>"
      ]
     },
     "metadata": {
      "needs_background": "light"
     },
     "output_type": "display_data"
    }
   ],
   "source": [
    "# set a manual threshold\n",
    "_, thresh = cv2.threshold(new, 15, 255, cv2.THRESH_BINARY_INV)\n",
    "plt.imshow(thresh)"
   ]
  },
  {
   "cell_type": "code",
   "execution_count": 35,
   "metadata": {},
   "outputs": [
    {
     "name": "stdout",
     "output_type": "stream",
     "text": [
      "MS3892-B2-S11-F35_024\n",
      "Traceback (most recent call last):\n",
      "  File \"autocrop.py\", line 227, in <module>\n",
      "    capture_one_data_as_str = autocrop(image_path, padding=padding)\n",
      "  File \"autocrop.py\", line 160, in autocrop\n",
      "    rect *= ratio\n",
      "UnboundLocalError: local variable 'rect' referenced before assignment\n",
      "MS3892-B2-S11-F35_025\n",
      "Traceback (most recent call last):\n",
      "  File \"autocrop.py\", line 227, in <module>\n",
      "    capture_one_data_as_str = autocrop(image_path, padding=padding)\n",
      "  File \"autocrop.py\", line 160, in autocrop\n",
      "    rect *= ratio\n",
      "UnboundLocalError: local variable 'rect' referenced before assignment\n",
      "MS3892-B2-S11-F35_026\n",
      "Traceback (most recent call last):\n",
      "  File \"autocrop.py\", line 227, in <module>\n",
      "    capture_one_data_as_str = autocrop(image_path, padding=padding)\n",
      "  File \"autocrop.py\", line 160, in autocrop\n",
      "    rect *= ratio\n",
      "UnboundLocalError: local variable 'rect' referenced before assignment\n",
      "MS3892-B2-S11-F35_027\n",
      "Traceback (most recent call last):\n",
      "  File \"autocrop.py\", line 227, in <module>\n",
      "    capture_one_data_as_str = autocrop(image_path, padding=padding)\n",
      "  File \"autocrop.py\", line 160, in autocrop\n",
      "    rect *= ratio\n",
      "UnboundLocalError: local variable 'rect' referenced before assignment\n",
      "MS3892-B2-S11-F35_028\n",
      "Traceback (most recent call last):\n",
      "  File \"autocrop.py\", line 227, in <module>\n",
      "    capture_one_data_as_str = autocrop(image_path, padding=padding)\n",
      "  File \"autocrop.py\", line 160, in autocrop\n",
      "    rect *= ratio\n",
      "UnboundLocalError: local variable 'rect' referenced before assignment\n",
      "MS3892-B2-S11-F35_029\n",
      "Traceback (most recent call last):\n",
      "  File \"autocrop.py\", line 227, in <module>\n",
      "    capture_one_data_as_str = autocrop(image_path, padding=padding)\n",
      "  File \"autocrop.py\", line 160, in autocrop\n",
      "    rect *= ratio\n",
      "UnboundLocalError: local variable 'rect' referenced before assignment\n",
      "MS3892-B2-S11-F35_030\n",
      "Traceback (most recent call last):\n",
      "  File \"autocrop.py\", line 227, in <module>\n",
      "    capture_one_data_as_str = autocrop(image_path, padding=padding)\n",
      "  File \"autocrop.py\", line 160, in autocrop\n",
      "    rect *= ratio\n",
      "UnboundLocalError: local variable 'rect' referenced before assignment\n",
      "MS3892-B2-S11-F35_031\n",
      "Traceback (most recent call last):\n",
      "  File \"autocrop.py\", line 227, in <module>\n",
      "    capture_one_data_as_str = autocrop(image_path, padding=padding)\n",
      "  File \"autocrop.py\", line 160, in autocrop\n",
      "    rect *= ratio\n",
      "UnboundLocalError: local variable 'rect' referenced before assignment\n"
     ]
    }
   ],
   "source": [
    "for image_path in image_paths_list:\n",
    "    print(image_path.stem)\n",
    "    !python autocrop.py {str(image_path)}"
   ]
  },
  {
   "cell_type": "code",
   "execution_count": null,
   "metadata": {},
   "outputs": [],
   "source": []
  }
 ],
 "metadata": {
  "kernelspec": {
   "display_name": "Python 3",
   "language": "python",
   "name": "python3"
  },
  "language_info": {
   "codemirror_mode": {
    "name": "ipython",
    "version": 3
   },
   "file_extension": ".py",
   "mimetype": "text/x-python",
   "name": "python",
   "nbconvert_exporter": "python",
   "pygments_lexer": "ipython3",
   "version": "3.7.3"
  }
 },
 "nbformat": 4,
 "nbformat_minor": 2
}
