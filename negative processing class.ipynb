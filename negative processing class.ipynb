{
 "cells": [
  {
   "cell_type": "code",
   "execution_count": 1,
   "metadata": {},
   "outputs": [],
   "source": [
    "# plotting magic\n",
    "%matplotlib inline\n",
    "\n",
    "# built-in libraries\n",
    "from pathlib import Path\n",
    "\n",
    "# 3rd party libraries I've installed\n",
    "import cv2\n",
    "import matplotlib.pyplot as plt\n",
    "import numpy as np\n",
    "import rawpy\n",
    "from PIL import Image\n",
    "\n",
    "# local libraries I've downloaded or created\n",
    "import img_qc.exiftool as exiftool\n",
    "import img_qc.img_qc as img_qc"
   ]
  },
  {
   "cell_type": "raw",
   "metadata": {},
   "source": [
    "# don't use, this hangs Python currently in Jupyter Notebook and slows down processing\n",
    "\n",
    "# get data directory of RAW files with tkinter dialog window\n",
    "\n",
    "_dialog_start_directory = 'data/'\n",
    "\n",
    "%gui tk\n",
    "from tkinter import*\n",
    "# Create Tk root\n",
    "root = Tk()\n",
    "# Hide the main window\n",
    "root.withdraw()\n",
    "#root.call('wm', 'attributes', '.', '-topmost', True)  # supposed to send the \n",
    "\n",
    "from tkinter import filedialog\n",
    "data_directory_path = Path(filedialog.askdirectory(initialdir=_dialog_start_directory))\n",
    "\n",
    "data_directory_path"
   ]
  },
  {
   "cell_type": "code",
   "execution_count": 2,
   "metadata": {},
   "outputs": [],
   "source": [
    "data_directory_path = Path('/Users/jmoor167/Documents/GitHub/utk_BennettPhotographCollection/data/bennett_pack-film')"
   ]
  },
  {
   "cell_type": "code",
   "execution_count": 3,
   "metadata": {},
   "outputs": [
    {
     "data": {
      "text/plain": [
       "PosixPath('/Users/jmoor167/Documents/GitHub/utk_BennettPhotographCollection/data/bennett_pack-film')"
      ]
     },
     "execution_count": 3,
     "metadata": {},
     "output_type": "execute_result"
    }
   ],
   "source": [
    "data_directory_path"
   ]
  },
  {
   "cell_type": "code",
   "execution_count": 4,
   "metadata": {},
   "outputs": [
    {
     "name": "stdout",
     "output_type": "stream",
     "text": [
      "17 raw images\n"
     ]
    }
   ],
   "source": [
    "# import and process negative using an LCC file for settings\n",
    "\n",
    "# get list of all raw files in data directory\n",
    "raw_image_paths_list = sorted(data_directory_path.glob('*.RAF'))  # *.RAF is the raw imaging file from our Fuji GFX 50s cameras\n",
    "\n",
    "number_of_raw_images = len(raw_image_paths_list)\n",
    "print(f'{number_of_raw_images} raw images')"
   ]
  },
  {
   "cell_type": "code",
   "execution_count": 5,
   "metadata": {},
   "outputs": [
    {
     "data": {
      "text/plain": [
       "[PosixPath('/Users/jmoor167/Documents/GitHub/utk_BennettPhotographCollection/data/bennett_pack-film/MS3892-B2-S11-F35_001.RAF'),\n",
       " PosixPath('/Users/jmoor167/Documents/GitHub/utk_BennettPhotographCollection/data/bennett_pack-film/MS3892-B2-S11-F35_002.RAF'),\n",
       " PosixPath('/Users/jmoor167/Documents/GitHub/utk_BennettPhotographCollection/data/bennett_pack-film/MS3892-B2-S11-F35_003.RAF')]"
      ]
     },
     "execution_count": 5,
     "metadata": {},
     "output_type": "execute_result"
    }
   ],
   "source": [
    "raw_image_paths_list[:3]"
   ]
  },
  {
   "cell_type": "code",
   "execution_count": 6,
   "metadata": {},
   "outputs": [
    {
     "data": {
      "text/plain": [
       "PosixPath('/Users/jmoor167/Documents/GitHub/utk_BennettPhotographCollection/data/bennett_pack-film/MS3892-B2-S11-F35_001.RAF')"
      ]
     },
     "execution_count": 6,
     "metadata": {},
     "output_type": "execute_result"
    }
   ],
   "source": [
    "lcc_path = raw_image_paths_list[-2]\n",
    "target_path = raw_image_paths_list[-1]\n",
    "image_paths_list = [x for x in raw_image_paths_list if x != lcc_path and x != target_path]\n",
    "image_paths_list[0]"
   ]
  },
  {
   "cell_type": "code",
   "execution_count": 7,
   "metadata": {},
   "outputs": [
    {
     "data": {
      "text/plain": [
       "(PosixPath('/Users/jmoor167/Documents/GitHub/utk_BennettPhotographCollection/data/bennett_pack-film/bennett_pack-film_-001.RAF'),\n",
       " PosixPath('/Users/jmoor167/Documents/GitHub/utk_BennettPhotographCollection/data/bennett_pack-film/bennett_pack-film_-002.RAF'))"
      ]
     },
     "execution_count": 7,
     "metadata": {},
     "output_type": "execute_result"
    }
   ],
   "source": [
    "lcc_path, target_path"
   ]
  },
  {
   "cell_type": "code",
   "execution_count": null,
   "metadata": {},
   "outputs": [],
   "source": [
    "# load image with context manager that closes it afterwards, but it also means we can't re-process the negative data\n",
    "\n",
    "# process first image with default settings with rawpy\n",
    "with rawpy.imread(str(image_paths_list[0])) as raw_negative:\n",
    "    print('loaded_image')\n",
    "    rgb_negative = raw_negative.postprocess()\n",
    "plt.imshow(rgb_negative)"
   ]
  },
  {
   "cell_type": "code",
   "execution_count": 8,
   "metadata": {},
   "outputs": [],
   "source": [
    "# load image without closing so we can do multiple raw conversions in the cells below\n",
    "raw_negative = rawpy.imread(str(image_paths_list[0]))"
   ]
  },
  {
   "cell_type": "code",
   "execution_count": null,
   "metadata": {},
   "outputs": [],
   "source": [
    "raw_negative.raw_colors_visible"
   ]
  },
  {
   "cell_type": "code",
   "execution_count": null,
   "metadata": {},
   "outputs": [],
   "source": [
    "pil_image = Image.fromarray(raw_negative.raw_colors_visible)\n",
    "pil_image.save(data_directory_path.joinpath('test.tif'))"
   ]
  },
  {
   "cell_type": "code",
   "execution_count": null,
   "metadata": {},
   "outputs": [],
   "source": [
    "# how to close the opened file\n",
    "raw_negative.close()"
   ]
  },
  {
   "cell_type": "code",
   "execution_count": null,
   "metadata": {},
   "outputs": [],
   "source": [
    "plt.imshow(raw_negative.raw_image)"
   ]
  },
  {
   "cell_type": "code",
   "execution_count": null,
   "metadata": {},
   "outputs": [],
   "source": [
    "plt.imshow(raw_negative.raw_image_visible)"
   ]
  },
  {
   "cell_type": "code",
   "execution_count": null,
   "metadata": {},
   "outputs": [],
   "source": [
    "pil_image = Image.fromarray(raw_negative.raw_image_visible)\n",
    "pil_image.save(data_directory_path.joinpath('test.tif'))"
   ]
  },
  {
   "cell_type": "code",
   "execution_count": null,
   "metadata": {},
   "outputs": [],
   "source": [
    "!open {str(data_directory_path)}"
   ]
  },
  {
   "cell_type": "code",
   "execution_count": null,
   "metadata": {},
   "outputs": [],
   "source": [
    "rawpy.flags"
   ]
  },
  {
   "cell_type": "code",
   "execution_count": 9,
   "metadata": {
    "scrolled": true
   },
   "outputs": [
    {
     "name": "stdout",
     "output_type": "stream",
     "text": [
      "355 ms ± 6.97 ms per loop (mean ± std. dev. of 7 runs, 1 loop each)\n"
     ]
    }
   ],
   "source": [
    "# time to get 8-bit linear, half_size, unprocessed image from RAW\n",
    "time_8bit_halfsize = %timeit -o rgb_negative_linear = raw_negative.postprocess(half_size=True, output_color=rawpy.ColorSpace.raw, gamma=(1, 1), user_wb=[1.0, 1.0, 1.0, 1.0], no_auto_bright=True)"
   ]
  },
  {
   "cell_type": "code",
   "execution_count": 10,
   "metadata": {},
   "outputs": [
    {
     "data": {
      "text/plain": [
       "0.36"
      ]
     },
     "execution_count": 10,
     "metadata": {},
     "output_type": "execute_result"
    }
   ],
   "source": [
    "round(time_8bit_halfsize.average, 2)"
   ]
  },
  {
   "cell_type": "code",
   "execution_count": 11,
   "metadata": {},
   "outputs": [
    {
     "name": "stdout",
     "output_type": "stream",
     "text": [
      "344 ms ± 3.75 ms per loop (mean ± std. dev. of 7 runs, 1 loop each)\n"
     ]
    }
   ],
   "source": [
    "# get time to process 16-bit linear, half_size, unprocessed image from RAW\n",
    "time_16bit_halfsize = %timeit -o rgb_negative_linear = raw_negative.postprocess(half_size=True, output_color=rawpy.ColorSpace.raw, gamma=(1, 1), user_wb=[1.0, 1.0, 1.0, 1.0], no_auto_bright=True, output_bps=16)"
   ]
  },
  {
   "cell_type": "code",
   "execution_count": 12,
   "metadata": {},
   "outputs": [
    {
     "name": "stdout",
     "output_type": "stream",
     "text": [
      "4.89 s ± 49.4 ms per loop (mean ± std. dev. of 7 runs, 1 loop each)\n"
     ]
    }
   ],
   "source": [
    "# get times for 8-bit, full_size images\n",
    "time_8bit_fullsize = %timeit -o rgb_negative_linear = raw_negative.postprocess(half_size=False, output_color=rawpy.ColorSpace.raw, gamma=(1, 1), user_wb=[1.0, 1.0, 1.0, 1.0], no_auto_bright=True, output_bps=8)"
   ]
  },
  {
   "cell_type": "code",
   "execution_count": 13,
   "metadata": {},
   "outputs": [
    {
     "name": "stdout",
     "output_type": "stream",
     "text": [
      "4.96 s ± 22.4 ms per loop (mean ± std. dev. of 7 runs, 1 loop each)\n"
     ]
    }
   ],
   "source": [
    "# get times for 16-bit, full_size images\n",
    "time_16bit_fullsize = %timeit -o rgb_negative_linear = raw_negative.postprocess(half_size=False, output_color=rawpy.ColorSpace.raw, gamma=(1, 1), user_wb=[1.0, 1.0, 1.0, 1.0], no_auto_bright=True, output_bps=16)"
   ]
  },
  {
   "cell_type": "code",
   "execution_count": 14,
   "metadata": {
    "scrolled": true
   },
   "outputs": [
    {
     "name": "stdout",
     "output_type": "stream",
     "text": [
      "18 time_8bit_halfsize\n",
      "19 time_16bit_halfsize\n",
      "18 time_8bit_fullsize\n",
      "19 time_16bit_fullsize\n"
     ]
    }
   ],
   "source": [
    "# bad, hacky method of getting variable names as string\n",
    "variable_names = [time_8bit_halfsize, time_16bit_halfsize, time_8bit_fullsize, time_16bit_fullsize]\n",
    "\n",
    "for variable in variable_names:\n",
    "    name = [ k for k,v in locals().items() if v is variable][0]\n",
    "    print(len(name), name)"
   ]
  },
  {
   "cell_type": "code",
   "execution_count": 15,
   "metadata": {},
   "outputs": [
    {
     "name": "stdout",
     "output_type": "stream",
     "text": [
      "Average for time_8bit_halfsize   0.36\n",
      "Average for time_16bit_halfsize  0.34\n",
      "Average for time_8bit_fullsize   4.89\n",
      "Average for time_16bit_fullsize  4.96\n"
     ]
    }
   ],
   "source": [
    "for variable in variable_names:\n",
    "    \n",
    "    name = [ k for k,v in locals().items() if v is variable][0]\n",
    "    \n",
    "    print(f'Average for {name:20}', round(variable.average, 2))"
   ]
  },
  {
   "cell_type": "code",
   "execution_count": null,
   "metadata": {},
   "outputs": [],
   "source": [
    "rawpy.libraw_version"
   ]
  },
  {
   "cell_type": "code",
   "execution_count": null,
   "metadata": {},
   "outputs": [],
   "source": [
    "raw_negative.raw_pattern"
   ]
  },
  {
   "cell_type": "code",
   "execution_count": 16,
   "metadata": {},
   "outputs": [],
   "source": [
    "# was going to try and demosaic the RAW file just using the green pixels, but this is something to figure out later\n",
    "# RIGHT NOW: just demosaic and get use the green channel (BEFORE inversion!)"
   ]
  },
  {
   "cell_type": "code",
   "execution_count": null,
   "metadata": {},
   "outputs": [],
   "source": [
    "# convert 16-bit to 8-bit values for displaying with matplotlib\n",
    "rgb_negative_linear_8bit = (rgb_negative_linear/256).astype('uint8')\n",
    "\n",
    "plt.imshow(rgb_negative_linear_8bit)"
   ]
  },
  {
   "cell_type": "code",
   "execution_count": null,
   "metadata": {},
   "outputs": [],
   "source": [
    "# get flat-fielding frame with rawpy\n",
    "image_path = Path('/Users/jeremy/Pictures/bennett_stitching_test/Capture/bennett_single-shot_003.RAF')\n",
    "flatfield = rawpy.imread(str(image_path))\n",
    "rgb_flatfield = flatfield.postprocess()\n",
    "\n",
    "plt.imshow(rgb_flatfield)"
   ]
  },
  {
   "cell_type": "code",
   "execution_count": null,
   "metadata": {},
   "outputs": [],
   "source": [
    "# get 16-bit, linear, unprocessed flat-fielding frame\n",
    "rgb_flatfield_linear = flatfield.postprocess(output_color=rawpy.ColorSpace.raw, gamma=(1, 1), \n",
    "                                               user_wb=[1.0, 1.0, 1.0, 1.0], no_auto_bright=True, output_bps=16)\n",
    "\n",
    "# convert 16-bit to 8-bit values for displaying with matplotlib\n",
    "rgb_flatfield_linear_8bit = (rgb_flatfield_linear/256).astype('uint8')\n",
    "\n",
    "plt.imshow(rgb_flatfield_linear_8bit)"
   ]
  },
  {
   "cell_type": "code",
   "execution_count": null,
   "metadata": {},
   "outputs": [],
   "source": [
    "# 16-bit image is not on a 2**8 scale, but 2**16\n",
    "2**16"
   ]
  },
  {
   "cell_type": "code",
   "execution_count": null,
   "metadata": {},
   "outputs": [],
   "source": [
    "# get pixels with maximum value\n",
    "np.where(rgb_flatfield_linear == 65535)"
   ]
  },
  {
   "cell_type": "code",
   "execution_count": null,
   "metadata": {},
   "outputs": [],
   "source": [
    "# output is y, x, channel\n",
    "rgb_flatfield_linear[6110, 4841, 1]"
   ]
  },
  {
   "cell_type": "code",
   "execution_count": null,
   "metadata": {
    "scrolled": true
   },
   "outputs": [],
   "source": [
    "250*256"
   ]
  },
  {
   "cell_type": "code",
   "execution_count": null,
   "metadata": {},
   "outputs": [],
   "source": [
    "np.where(rgb_flatfield_linear > 64000)"
   ]
  },
  {
   "cell_type": "code",
   "execution_count": null,
   "metadata": {},
   "outputs": [],
   "source": [
    "# how many pixels?\n",
    "len(np.where(rgb_flatfield_linear >= 64000)[0])"
   ]
  },
  {
   "cell_type": "code",
   "execution_count": null,
   "metadata": {},
   "outputs": [],
   "source": [
    "# if you want to write the images out to disk now\n",
    "imageio.imwrite((data_directory_path.joinpath('negative_linear.tif')), rgb_negative_linear)\n",
    "imageio.imwrite((data_directory_path.joinpath('flatfield_linear.tif')), rgb_flatfield_linear)\n",
    "!open {str(data_directory_path)}"
   ]
  },
  {
   "cell_type": "code",
   "execution_count": null,
   "metadata": {},
   "outputs": [],
   "source": [
    "# in photoshop i would "
   ]
  },
  {
   "cell_type": "code",
   "execution_count": null,
   "metadata": {
    "scrolled": false
   },
   "outputs": [],
   "source": [
    "flatfielded = rgb_negative_linear / rgb_flatfield_linear\n",
    "\n",
    "# convert 16-bit to 8-bit values for displaying with matplotlib\n",
    "flatfielded_8bit = (flatfielded/256).astype('uint8')\n",
    "\n",
    "plt.imshow(flatfielded_8bit)"
   ]
  },
  {
   "cell_type": "markdown",
   "metadata": {},
   "source": [
    "Having issues because our flatfielding image has pixels with value 0\n",
    "\n",
    "Divide by zero is bad!"
   ]
  },
  {
   "cell_type": "code",
   "execution_count": null,
   "metadata": {},
   "outputs": [],
   "source": [
    "# get list of pixels where a value is 0\n",
    "zero_list = np.where(rgb_flatfield_linear == 0)\n",
    "\n",
    "# produces 3 arrays: y, x, channel\n",
    "zero_list"
   ]
  },
  {
   "cell_type": "code",
   "execution_count": null,
   "metadata": {},
   "outputs": [],
   "source": [
    "# loop through list of pixels with value zero and print out x, y, & color channel\n",
    "\n",
    "print('x y color channel')\n",
    "for index, y in enumerate(zero_list[0]):\n",
    "    x = zero_list[1][index]\n",
    "    channel = zero_list[2][index]\n",
    "    if channel == 0:\n",
    "        color = 'r'\n",
    "    elif channel == 1:\n",
    "        color = 'g'\n",
    "    else:\n",
    "        color = 'b'\n",
    "    print(x, y, color)"
   ]
  },
  {
   "cell_type": "code",
   "execution_count": null,
   "metadata": {},
   "outputs": [],
   "source": [
    "# need to blur LCC image before using as flatfield\n",
    "# best practice might be to take the picture out of focus?\n",
    "# take multiple pictures?"
   ]
  },
  {
   "cell_type": "code",
   "execution_count": null,
   "metadata": {},
   "outputs": [],
   "source": [
    "# can only cv2.medianBlur 16-bit images with a kernel size of 5 or 8\n",
    "rgb_flatfield_linear_blurred = cv2.medianBlur(rgb_flatfield_linear, 5)\n",
    "\n",
    "# convert 16-bit to 8-bit values for displaying with matplotlib\n",
    "rgb_flatfield_linear_blurred_8bit = (rgb_flatfield_linear_blurred/256).astype('uint8')\n",
    "\n",
    "plt.imshow(rgb_flatfield_linear_blurred_8bit)"
   ]
  },
  {
   "cell_type": "code",
   "execution_count": null,
   "metadata": {},
   "outputs": [],
   "source": [
    "# after blurring get list of pixels where a value is 0\n",
    "zero_list = np.where(rgb_flatfield_linear_blurred == 0)\n",
    "\n",
    "# produces 3 arrays: y, x, channel\n",
    "zero_list"
   ]
  },
  {
   "cell_type": "code",
   "execution_count": null,
   "metadata": {},
   "outputs": [],
   "source": [
    "# after blurring get list of pixels where a value is 65335\n",
    "zero_list = np.where(rgb_flatfield_linear_blurred == 65335)\n",
    "\n",
    "# produces 3 arrays: y, x, channel\n",
    "zero_list"
   ]
  },
  {
   "cell_type": "code",
   "execution_count": null,
   "metadata": {},
   "outputs": [],
   "source": [
    "rgb_flatfield_linear_blurred.max()"
   ]
  },
  {
   "cell_type": "code",
   "execution_count": null,
   "metadata": {},
   "outputs": [],
   "source": [
    "63069//256"
   ]
  },
  {
   "cell_type": "code",
   "execution_count": null,
   "metadata": {},
   "outputs": [],
   "source": [
    "# convert 16-bit to 8-bit values for higher medianBlur test\n",
    "rgb_flatfield_linear_8bit = (rgb_flatfield_linear/256).astype('uint8')\n",
    "\n",
    "# can only cv2.medianBlur 16-bit images with a kernel size of 5 or 8\n",
    "rgb_flatfield_linear_blurred_8bit_test = cv2.medianBlur(rgb_flatfield_linear_8bit, 15)\n",
    "\n",
    "plt.imshow(rgb_flatfield_linear_blurred_8bit_test)"
   ]
  },
  {
   "cell_type": "code",
   "execution_count": null,
   "metadata": {},
   "outputs": [],
   "source": [
    "# get list of pixels where a value is 0\n",
    "zero_list = np.where(rgb_flatfield_linear_blurred_8bit_test == 0)\n",
    "\n",
    "# produces 3 arrays: y, x, channel\n",
    "zero_list"
   ]
  },
  {
   "cell_type": "code",
   "execution_count": null,
   "metadata": {},
   "outputs": [],
   "source": [
    "# get list of pixels where a value is 0\n",
    "zero_list = np.where(rgb_flatfield_linear_blurred_8bit_test == 255)\n",
    "\n",
    "# produces 3 arrays: y, x, channel\n",
    "zero_list"
   ]
  },
  {
   "cell_type": "code",
   "execution_count": null,
   "metadata": {},
   "outputs": [],
   "source": [
    "image_copy = rgb_flatfield_linear_blurred_8bit_test.copy()\n",
    "\n",
    "black_pixels_mask = np.all(rgb_flatfield_linear_blurred_8bit_test == [0, 0, 0], axis=-1)\n",
    "\n",
    "non_black_pixels_mask = np.any(rgb_flatfield_linear_blurred_8bit_test != [0, 0, 0], axis=-1)  \n",
    "# or non_black_pixels_mask = ~black_pixels_mask\n",
    "\n",
    "image_copy[black_pixels_mask] = [255, 255, 255]\n",
    "image_copy[non_black_pixels_mask] = [0, 0, 0]\n",
    "\n",
    "plt.imshow(image_copy)\n",
    "plt.show()"
   ]
  },
  {
   "cell_type": "code",
   "execution_count": null,
   "metadata": {},
   "outputs": [],
   "source": []
  }
 ],
 "metadata": {
  "kernelspec": {
   "display_name": "Python 3",
   "language": "python",
   "name": "python3"
  },
  "language_info": {
   "codemirror_mode": {
    "name": "ipython",
    "version": 3
   },
   "file_extension": ".py",
   "mimetype": "text/x-python",
   "name": "python",
   "nbconvert_exporter": "python",
   "pygments_lexer": "ipython3",
   "version": "3.7.3"
  },
  "toc": {
   "base_numbering": 1,
   "nav_menu": {},
   "number_sections": true,
   "sideBar": true,
   "skip_h1_title": false,
   "title_cell": "Table of Contents",
   "title_sidebar": "Contents",
   "toc_cell": false,
   "toc_position": {},
   "toc_section_display": true,
   "toc_window_display": false
  }
 },
 "nbformat": 4,
 "nbformat_minor": 2
}
