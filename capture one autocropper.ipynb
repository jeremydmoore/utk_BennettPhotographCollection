{
 "cells": [
  {
   "cell_type": "code",
   "execution_count": 33,
   "metadata": {},
   "outputs": [],
   "source": [
    "%matplotlib inline\n",
    "from pathlib import Path\n",
    "\n",
    "import cv2\n",
    "import numpy as np\n",
    "from matplotlib import pyplot as plt\n",
    "from sklearn.cluster import MiniBatchKMeans\n",
    "\n",
    "import img_qc.img_qc as img_qc"
   ]
  },
  {
   "cell_type": "code",
   "execution_count": 65,
   "metadata": {},
   "outputs": [],
   "source": [
    "def find_contours(image_binarized):\n",
    "        \n",
    "    # find the contours in the thresholded image keeping the external one\n",
    "    _, contours, hierarchy = cv2.findContours(image_binarized, cv2.RETR_EXTERNAL, cv2.CHAIN_APPROX_SIMPLE)\n",
    "        \n",
    "    return contours\n",
    "\n",
    "def find_external_rectangle(contours, minimum_area = 500000):\n",
    "    \n",
    "    # loop over the contours individually\n",
    "    for (i, contour) in enumerate(contours):\n",
    "    # if the contour is not sufficiently large, ignore it\n",
    "        if cv2.contourArea(contour) < 500000:  # use 20000 for scrapbook pages\n",
    "            continue\n",
    "            \n",
    "        # compute the rotated bounding box of the contour\n",
    "        box = cv2.minAreaRect(contour)\n",
    "        box = cv2.boxPoints(box)\n",
    "        box = np.int0(box)\n",
    "        \n",
    "        # re-order the points in tl, tr, br, bl order\n",
    "        rect = img_qc.order_points(box)\n",
    "        \n",
    "        # find the points and angle for minAreaRectangle\n",
    "        (x, y), (w, h), theta = cv2.minAreaRect(contour)\n",
    "            \n",
    "        # the `cv2.minAreaRect` function returns values in the\n",
    "        # range [-90, 0); as the rectangle rotates clockwise the\n",
    "        # returned angle trends to 0 -- in this special case we\n",
    "        # need to add 90 degrees to the angle\n",
    "        if theta < -45:\n",
    "            angle = -(90 + theta)\n",
    " \n",
    "        # otherwise, just take the inverse of the angle to make\n",
    "        # it positive\n",
    "        else:\n",
    "            angle = -theta\n",
    "            \n",
    "    return rect, x, y, angle"
   ]
  },
  {
   "cell_type": "code",
   "execution_count": 58,
   "metadata": {},
   "outputs": [],
   "source": [
    "class NegativeScan:\n",
    "    \n",
    "    def __init__(self, image_path):\n",
    "        self.image_path = Path(image_path)\n",
    "        \n",
    "        \n",
    "    def blur_image(self):\n",
    "    \n",
    "        image_cv2 = cv2.imread(str(self.image_path))\n",
    "        if len(image_cv2.shape) > 2:  # NOT grayscale\n",
    "            image_cv2 = cv2.cvtColor(image_cv2, cv2.COLOR_BGR2GRAY)\n",
    "        image_blurred = cv2.bilateralFilter(image_cv2, 21, 21, 21)\n",
    "    \n",
    "        return image_blurred\n",
    "    \n",
    "    \n",
    "    def quantize(self, number_of_clusters = 5):\n",
    "        \n",
    "        image_blurred = self.blur_image()\n",
    "    \n",
    "        if len(image_blurred.shape) < 3:  # image grayscale\n",
    "            image_blurred = cv2.cvtColor(image_blurred, cv2.COLOR_GRAY2BGR)\n",
    "        \n",
    "        image_blurred = cv2.cvtColor(image_blurred, cv2.COLOR_BGR2LAB)\n",
    "        h, w = image_blurred.shape[:2]\n",
    "    \n",
    "        reshaped_image = image_blurred.reshape((image_blurred.shape[0] * image_blurred.shape[1], 3))\n",
    "    \n",
    "        # apply k-means using the specified number of clusters and\n",
    "        # then create the quantizedized reshaped based on the predictions\n",
    "        clt = MiniBatchKMeans(n_clusters = number_of_clusters)\n",
    "        labels = clt.fit_predict(reshaped_image)\n",
    "        quantized = clt.cluster_centers_.astype(\"uint8\")[labels]\n",
    " \n",
    "        # reshape the feature vectors to reshapeds\n",
    "        quantized = quantized.reshape((h, w, 3))\n",
    " \n",
    "        # convert from L*a*b* to RGB\n",
    "        quantized = cv2.cvtColor(quantized, cv2.COLOR_LAB2BGR)\n",
    "    \n",
    "        return quantized\n",
    "    \n",
    "    \n",
    "    def equalize(self):\n",
    "        quantized = self.quantize()\n",
    "        image_gray = cv2.cvtColor(quantized, cv2.COLOR_BGR2GRAY)\n",
    "        image_equalized = cv2.equalizeHist(image_gray)\n",
    "        return image_equalized\n",
    "    \n",
    "    \n",
    "    def threshold_kmeans(self):\n",
    "    \n",
    "        equalized = self.equalize()\n",
    "\n",
    "        # invert image\n",
    "        inverted = np.invert(equalized)\n",
    "    \n",
    "        # manual threshold value so EVERYTHING 1-255 -> 255\n",
    "        _, image_binarized = cv2.threshold(inverted, 1, 255, cv2.THRESH_BINARY)\n",
    "    \n",
    "        return image_binarized"
   ]
  },
  {
   "cell_type": "code",
   "execution_count": 59,
   "metadata": {},
   "outputs": [],
   "source": [
    "neg_scan = NegativeScan('/Users/jeremy/Pictures/bennett_pack-film/Output/_autocrop_jpg/MS3892-B2-S11-F35_002.jpg')"
   ]
  },
  {
   "cell_type": "code",
   "execution_count": 60,
   "metadata": {},
   "outputs": [
    {
     "data": {
      "text/plain": [
       "<matplotlib.image.AxesImage at 0x1a22fc20b8>"
      ]
     },
     "execution_count": 60,
     "metadata": {},
     "output_type": "execute_result"
    },
    {
     "data": {
      "image/png": "[encoded data removed]",
      "text/plain": [
       "<Figure size 432x288 with 1 Axes>"
      ]
     },
     "metadata": {
      "needs_background": "light"
     },
     "output_type": "display_data"
    }
   ],
   "source": [
    "threshold = neg_scan.threshold_kmeans()\n",
    "plt.imshow(threshold, cmap='gray')"
   ]
  },
  {
   "cell_type": "code",
   "execution_count": 61,
   "metadata": {},
   "outputs": [
    {
     "data": {
      "text/plain": [
       "3"
      ]
     },
     "execution_count": 61,
     "metadata": {},
     "output_type": "execute_result"
    }
   ],
   "source": [
    "contours = find_contours(threshold)\n",
    "len(contours)"
   ]
  },
  {
   "cell_type": "code",
   "execution_count": 64,
   "metadata": {},
   "outputs": [
    {
     "data": {
      "text/plain": [
       "(array([[  69.,   26.],\n",
       "        [1002.,   23.],\n",
       "        [1003.,  582.],\n",
       "        [  71.,  584.]], dtype=float32),\n",
       " 536.7015380859375,\n",
       " 304.31390380859375,\n",
       " 0.12442060559988022)"
      ]
     },
     "execution_count": 64,
     "metadata": {},
     "output_type": "execute_result"
    }
   ],
   "source": [
    "find_external_rectangle(contours)"
   ]
  },
  {
   "cell_type": "code",
   "execution_count": null,
   "metadata": {},
   "outputs": [],
   "source": []
  }
 ],
 "metadata": {
  "kernelspec": {
   "display_name": "Python 3",
   "language": "python",
   "name": "python3"
  },
  "language_info": {
   "codemirror_mode": {
    "name": "ipython",
    "version": 3
   },
   "file_extension": ".py",
   "mimetype": "text/x-python",
   "name": "python",
   "nbconvert_exporter": "python",
   "pygments_lexer": "ipython3",
   "version": "3.7.3"
  }
 },
 "nbformat": 4,
 "nbformat_minor": 2
}
